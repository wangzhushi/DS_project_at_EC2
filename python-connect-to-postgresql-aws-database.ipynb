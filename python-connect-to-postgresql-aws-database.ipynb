{
 "cells": [
  {
   "cell_type": "code",
   "execution_count": null,
   "metadata": {},
   "outputs": [],
   "source": [
    "#https://www.postgresqltutorial.com/postgresql-python/\n",
    "#psql --host=ds-algo-db.cqnsij6u6oig.ca-central-1.rds.amazonaws.com --port=5432 --username=postgres --password --dbname=postgres\n"
   ]
  },
  {
   "cell_type": "code",
   "execution_count": 2,
   "metadata": {},
   "outputs": [],
   "source": [
    "import psycopg2\n",
    "\n",
    "#conn = psycopg2.connect(\"dbname=suppliers user=postgres password=postgres\")\n",
    "\n",
    "conn = psycopg2.connect(\n",
    "    host=\"ds-algo-db.cqnsij6u6oig.ca-central-1.rds.amazonaws.com\",\n",
    "    database=\"postgres\",\n",
    "    user=\"postgres\",\n",
    "    password=\"cifunds123\")"
   ]
  },
  {
   "cell_type": "code",
   "execution_count": 6,
   "metadata": {},
   "outputs": [
    {
     "name": "stdout",
     "output_type": "stream",
     "text": [
      "The number of rows:  25\n",
      "('Harry', 24.2, datetime.date(2020, 1, 1))\n",
      "('Neo', 23.2, datetime.date(2020, 1, 1))\n",
      "('William', 23.4, datetime.date(2020, 1, 1))\n",
      "('Harry', 22.4, datetime.date(2020, 1, 2))\n",
      "('Jason', 24.3, datetime.date(2020, 1, 2))\n",
      "('Neo', 24.3, datetime.date(2020, 1, 2))\n",
      "('William', 23.4, datetime.date(2020, 1, 2))\n",
      "('Neo', 23.4, datetime.date(2020, 1, 3))\n",
      "('Harry', 23.4, datetime.date(2020, 1, 3))\n",
      "('William', 23.4, datetime.date(2020, 1, 3))\n",
      "('William', 25.3, datetime.date(2020, 1, 4))\n",
      "('Neo', 23.2, datetime.date(2020, 1, 4))\n",
      "('Harry', 26.7, datetime.date(2020, 1, 4))\n",
      "('Tom', 23.7, datetime.date(2020, 1, 4))\n",
      "('Jason', 26.7, datetime.date(2020, 1, 4))\n",
      "('Tom', 23.7, datetime.date(2020, 1, 5))\n",
      "('William', 25.3, datetime.date(2020, 1, 5))\n",
      "('Jason', 26.7, datetime.date(2020, 1, 5))\n",
      "('Neo', 23.2, datetime.date(2020, 1, 5))\n",
      "('Harry', 26.7, datetime.date(2020, 1, 5))\n",
      "('William', 25.3, datetime.date(2020, 1, 6))\n",
      "('Neo', 27.8, datetime.date(2020, 1, 6))\n",
      "('Harry', 27.8, datetime.date(2020, 1, 6))\n",
      "('Tom', 23.7, datetime.date(2020, 1, 6))\n",
      "('Jason', 27.8, datetime.date(2020, 1, 8))\n"
     ]
    }
   ],
   "source": [
    "cur = conn.cursor()\n",
    "cur.execute('select * from sales')\n",
    "print(\"The number of rows: \", cur.rowcount)\n",
    "row = cur.fetchone()\n",
    "\n",
    "while row is not None:\n",
    "    print(row)\n",
    "    row = cur.fetchone()\n",
    "    "
   ]
  },
  {
   "cell_type": "code",
   "execution_count": 4,
   "metadata": {},
   "outputs": [
    {
     "name": "stdout",
     "output_type": "stream",
     "text": [
      "<cursor object at 0x7efc08708450; closed: 0>\n"
     ]
    }
   ],
   "source": [
    "print(cur)"
   ]
  },
  {
   "cell_type": "code",
   "execution_count": 7,
   "metadata": {},
   "outputs": [],
   "source": [
    "cur.close()\n",
    "conn.close()"
   ]
  },
  {
   "cell_type": "code",
   "execution_count": null,
   "metadata": {},
   "outputs": [],
   "source": []
  }
 ],
 "metadata": {
  "kernelspec": {
   "display_name": "Python 3",
   "language": "python",
   "name": "python3"
  },
  "language_info": {
   "codemirror_mode": {
    "name": "ipython",
    "version": 3
   },
   "file_extension": ".py",
   "mimetype": "text/x-python",
   "name": "python",
   "nbconvert_exporter": "python",
   "pygments_lexer": "ipython3",
   "version": "3.7.9"
  }
 },
 "nbformat": 4,
 "nbformat_minor": 4
}
